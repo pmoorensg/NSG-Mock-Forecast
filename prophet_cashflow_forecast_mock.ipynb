{
 "cells": [
  {
   "cell_type": "code",
   "execution_count": null,
   "id": "606222bb",
   "metadata": {},
   "outputs": [],
   "source": [
    "# Prophet Cash Flow Forecast — NSG Sample"
   ]
  },
  {
   "cell_type": "code",
   "execution_count": null,
   "id": "695dcfdb",
   "metadata": {},
   "outputs": [],
   "source": [
    "from prophet import Prophet\n",
    "import pandas as pd\n",
    "import numpy as np\n",
    "import matplotlib.pyplot as plt"
   ]
  },
  {
   "cell_type": "code",
   "execution_count": null,
   "id": "6eca116c",
   "metadata": {},
   "outputs": [],
   "source": [
    "# Mock weekly data from Jan 2021 to Dec 2024\n",
    "date_range = pd.date_range(start='2021-01-04', end='2024-12-30', freq='W-MON')\n",
    "np.random.seed(42)"
   ]
  },
  {
   "cell_type": "code",
   "execution_count": null,
   "id": "43e2cf55",
   "metadata": {},
   "outputs": [],
   "source": [
    "# Simulate AR, AP, Payroll data\n",
    "data = pd.DataFrame({\n",
    "    'ds': date_range,\n",
    "    'AR_collected': np.random.normal(200000, 50000, len(date_range)),\n",
    "    'AP_paid': np.random.normal(120000, 30000, len(date_range)),\n",
    "    'Payroll': np.random.normal(50000, 10000, len(date_range))\n",
    "})"
   ]
  },
  {
   "cell_type": "code",
   "execution_count": null,
   "id": "439c0e16",
   "metadata": {},
   "outputs": [],
   "source": [
    "# Calculate net cash flow\n",
    "data['y'] = data['AR_collected'] - data['AP_paid'] - data['Payroll']"
   ]
  },
  {
   "cell_type": "code",
   "execution_count": null,
   "id": "42397153",
   "metadata": {},
   "outputs": [],
   "source": [
    "# Prepare for Prophet\n",
    "prophet_data = data[['ds', 'y']]"
   ]
  },
  {
   "cell_type": "code",
   "execution_count": null,
   "id": "8b1e2e95",
   "metadata": {},
   "outputs": [],
   "source": [
    "# Fit model\n",
    "model = Prophet(weekly_seasonality=True)\n",
    "model.fit(prophet_data)"
   ]
  },
  {
   "cell_type": "code",
   "execution_count": null,
   "id": "37607ae8",
   "metadata": {},
   "outputs": [],
   "source": [
    "# Forecast 12 weeks into future\n",
    "future = model.make_future_dataframe(periods=12, freq='W-MON')\n",
    "forecast = model.predict(future)"
   ]
  },
  {
   "cell_type": "code",
   "execution_count": null,
   "id": "55b077ca",
   "metadata": {},
   "outputs": [],
   "source": [
    "# Plot results\n",
    "model.plot(forecast)\n",
    "plt.title(\"Cash Flow Forecast (Mock Data)\")\n",
    "plt.show()"
   ]
  }
 ],
 "metadata": {},
 "nbformat": 4,
 "nbformat_minor": 5
}
